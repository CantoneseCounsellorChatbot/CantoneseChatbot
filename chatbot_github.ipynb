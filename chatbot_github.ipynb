{
  "nbformat": 4,
  "nbformat_minor": 0,
  "metadata": {
    "colab": {
      "name": "chatbot_github.ipynb",
      "provenance": [],
      "collapsed_sections": [],
      "authorship_tag": "ABX9TyNAywgwCJbhCMejpm61mhmo",
      "include_colab_link": true
    },
    "kernelspec": {
      "name": "python3",
      "display_name": "Python 3"
    },
    "language_info": {
      "name": "python"
    },
    "accelerator": "GPU"
  },
  "cells": [
    {
      "cell_type": "markdown",
      "metadata": {
        "id": "view-in-github",
        "colab_type": "text"
      },
      "source": [
        "<a href=\"https://colab.research.google.com/github/CantoneseCounsellorChatbot/CantoneseChatbot/blob/main/chatbot_github.ipynb\" target=\"_parent\"><img src=\"https://colab.research.google.com/assets/colab-badge.svg\" alt=\"Open In Colab\"/></a>"
      ]
    },
    {
      "cell_type": "code",
      "metadata": {
        "id": "J1F448uY7H5D"
      },
      "source": [
        "!rm -rf /content/CantoneseChatbot\n",
        "!pip install torch\n",
        "!pip install simpletransformers\n",
        "!pip install pytorch_pretrained_bert\n",
        "!pip install zipfile\n",
        "# !pip install sqlite3\n",
        "!git clone https://github.com/CantoneseCounsellorChatbot/CantoneseChatbot.git\n",
        "# download question retrieval model\n",
        "!python /content/CantoneseChatbot/gdown2.py\n"
      ],
      "execution_count": null,
      "outputs": []
    },
    {
      "cell_type": "code",
      "metadata": {
        "id": "qnacCuXo7TeT"
      },
      "source": [
        "import sys\n",
        "# from google.colab import drive\n",
        "# drive.mount('/content/drive')\n",
        "sys.path.append('/content/CantoneseChatbot/')\n",
        "sys.path.append('/content/CantoneseChatbot/GPT2')\n",
        "from datetime import time\n",
        "import time\n",
        "import pandas as pd\n",
        "import numpy as np\n",
        "import torch\n",
        "from torch.utils.data import DataLoader, RandomSampler, SequentialSampler\n",
        "from torch.utils.data import TensorDataset, random_split\n",
        "from tqdm import tqdm\n",
        "from simpletransformers.classification import ClassificationModel\n",
        "from transformers import BertTokenizer, BertForSequenceClassification\n",
        "# import sqlite3\n",
        "import re\n",
        "from models import *"
      ],
      "execution_count": 2,
      "outputs": []
    },
    {
      "cell_type": "code",
      "metadata": {
        "id": "E_KVo7C27fHA"
      },
      "source": [
        "# The default response order is advice-->question-->restatement-->bertsum, you can change the order by changing the parameter b\n",
        "# The threshold of \"advice\",\"question\"and\"restatement\" ranges from 0 to 1.1\n",
        "# The threshold of \"dialogpt\" ranges from 0 to 20\n",
        "# mode:debug or normal\n",
        "\n",
        "chatbot_params={\"advice\":{\"Threshold\":1.0,\"order\":2},\n",
        "                \"question\":{\"Threshold\":1.0,\"order\":5},\n",
        "                \"restatement\":{\"Threshold\":1.0,\"order\":1},\n",
        "                \"dialogpt\":{\"Threshold\":9,\"order\":10},\n",
        "                \"general\":{\"order\":7},\n",
        "                \"mode\":\"debug\"\n",
        "                }"
      ],
      "execution_count": 3,
      "outputs": []
    },
    {
      "cell_type": "code",
      "metadata": {
        "id": "RGBoEv9a7g9J"
      },
      "source": [
        "chatbot(chatbot_params)"
      ],
      "execution_count": null,
      "outputs": []
    },
    {
      "cell_type": "code",
      "metadata": {
        "id": "PVsjvWLT8iqO"
      },
      "source": [],
      "execution_count": null,
      "outputs": []
    }
  ]
}
